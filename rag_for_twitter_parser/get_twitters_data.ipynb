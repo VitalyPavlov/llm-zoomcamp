{
 "cells": [
  {
   "cell_type": "code",
   "execution_count": 1,
   "metadata": {},
   "outputs": [
    {
     "name": "stderr",
     "output_type": "stream",
     "text": [
      "/Users/vitaly/Documents/Github_personal/llm-zoomcamp/venv/lib/python3.9/site-packages/urllib3/__init__.py:35: NotOpenSSLWarning: urllib3 v2 only supports OpenSSL 1.1.1+, currently the 'ssl' module is compiled with 'LibreSSL 2.8.3'. See: https://github.com/urllib3/urllib3/issues/3020\n",
      "  warnings.warn(\n"
     ]
    }
   ],
   "source": [
    "from twikit import Client\n",
    "import json\n",
    "import pandas as pd\n",
    "from tqdm import tqdm\n",
    "import requests\n",
    "from bs4 import BeautifulSoup as bs\n",
    "import re\n",
    "from lxml.html import fromstring\n",
    "import minsearch\n",
    "import ast"
   ]
  },
  {
   "cell_type": "code",
   "execution_count": 9,
   "metadata": {},
   "outputs": [],
   "source": [
    "from twikit import Client\n",
    "import json\n",
    "import pandas as pd\n",
    "\n",
    "client = Client('en-US')\n",
    "\n",
    "## You can comment this `login`` part out after the first time you run the script (and you have the `cookies.json`` file)\n",
    "client.login(\n",
    "    auth_info_1='',\n",
    "    password='',\n",
    ")\n",
    "\n",
    "client.save_cookies('cookies.json')\n",
    "client.load_cookies(path='cookies.json')"
   ]
  },
  {
   "cell_type": "code",
   "execution_count": 10,
   "metadata": {},
   "outputs": [],
   "source": [
    "pd.DataFrame(columns=['full_text', 'entities'], index=[0]).to_csv('tweets.csv', index=False)"
   ]
  },
  {
   "cell_type": "code",
   "execution_count": 25,
   "metadata": {},
   "outputs": [],
   "source": [
    "tweets_type = \"2024 Olympic Men's Basketball articles\"\n",
    "tweets = client.search_tweet(tweets_type, 'Media', count=50)\n",
    "\n",
    "tweets_to_store = []\n",
    "\n",
    "for tweet in tweets:\n",
    "    for url in tweet.urls:\n",
    "        tweets_to_store.append({\n",
    "            # 'created_at': tweet.created_at,\n",
    "            # 'favorite_count': tweet.favorite_count,\n",
    "            'full_text': tweet.text,\n",
    "            'entities': url,\n",
    "        })\n",
    "\n",
    "# # We can make the data into a pandas dataframe and store it as a CSV file\n",
    "df = pd.DataFrame(tweets_to_store)\n",
    "df.to_csv('tweets.csv', index=False, mode='a', header=False)\n"
   ]
  },
  {
   "cell_type": "code",
   "execution_count": 24,
   "metadata": {},
   "outputs": [
    {
     "data": {
      "text/plain": [
       "[<Tweet id=\"1817681567470502219\">, <Tweet id=\"1823415379797913684\">, <Tweet id=\"1823178156012122489\">, <Tweet id=\"1823531272632729854\">, <Tweet id=\"1824993003917680959\">, <Tweet id=\"1818006556455354385\">, <Tweet id=\"1823179820273991762\">, <Tweet id=\"1814812470076211657\">, <Tweet id=\"1820722510318743846\">, <Tweet id=\"1721584480249426414\">, <Tweet id=\"1823494957426004405\">, <Tweet id=\"1781323128360022405\">, <Tweet id=\"1816811125029196119\">, <Tweet id=\"1821901921306714351\">, <Tweet id=\"1817366865188098434\">, <Tweet id=\"1823379077970989487\">, <Tweet id=\"1814333643374075981\">, <Tweet id=\"1814773928910348735\">, <Tweet id=\"1749926809108632016\">, <Tweet id=\"1809965643388850465\">]"
      ]
     },
     "execution_count": 24,
     "metadata": {},
     "output_type": "execute_result"
    }
   ],
   "source": [
    "tweets"
   ]
  },
  {
   "cell_type": "code",
   "execution_count": 26,
   "metadata": {},
   "outputs": [
    {
     "data": {
      "text/plain": [
       "15"
      ]
     },
     "execution_count": 26,
     "metadata": {},
     "output_type": "execute_result"
    }
   ],
   "source": [
    "len(df)"
   ]
  },
  {
   "cell_type": "code",
   "execution_count": 27,
   "metadata": {},
   "outputs": [
    {
     "data": {
      "text/html": [
       "<div>\n",
       "<style scoped>\n",
       "    .dataframe tbody tr th:only-of-type {\n",
       "        vertical-align: middle;\n",
       "    }\n",
       "\n",
       "    .dataframe tbody tr th {\n",
       "        vertical-align: top;\n",
       "    }\n",
       "\n",
       "    .dataframe thead th {\n",
       "        text-align: right;\n",
       "    }\n",
       "</style>\n",
       "<table border=\"1\" class=\"dataframe\">\n",
       "  <thead>\n",
       "    <tr style=\"text-align: right;\">\n",
       "      <th></th>\n",
       "      <th>full_text</th>\n",
       "      <th>entities</th>\n",
       "    </tr>\n",
       "  </thead>\n",
       "  <tbody>\n",
       "    <tr>\n",
       "      <th>0</th>\n",
       "      <td>NaN</td>\n",
       "      <td>NaN</td>\n",
       "    </tr>\n",
       "    <tr>\n",
       "      <th>1</th>\n",
       "      <td>@CBC please stop writing articles about Canada...</td>\n",
       "      <td>{'display_url': 'cbc.ca/sports/basketb…', 'exp...</td>\n",
       "    </tr>\n",
       "    <tr>\n",
       "      <th>2</th>\n",
       "      <td>New Articles in Feed: Olympic Shooting\\nRussia...</td>\n",
       "      <td>{'display_url': 'feeddistiller.com/blogs/Olymp...</td>\n",
       "    </tr>\n",
       "    <tr>\n",
       "      <th>3</th>\n",
       "      <td>New Articles in Feed: Olympic Shooting\\nRussia...</td>\n",
       "      <td>{'display_url': 'tinyurl.com/FDReader', 'expan...</td>\n",
       "    </tr>\n",
       "    <tr>\n",
       "      <th>4</th>\n",
       "      <td>The U.S. men’s basketball team began its quest...</td>\n",
       "      <td>{'display_url': 'vogue.com/article/us-men…', '...</td>\n",
       "    </tr>\n",
       "    <tr>\n",
       "      <th>5</th>\n",
       "      <td>Night night! Steph Curry put @USABasketball on...</td>\n",
       "      <td>{'display_url': 'link.thesportsletter.com/view...</td>\n",
       "    </tr>\n",
       "    <tr>\n",
       "      <th>6</th>\n",
       "      <td>It’s electric. It’s fast-paced. It’s 3x3 hoops...</td>\n",
       "      <td>{'display_url': 'slam.ly/usab-3s', 'expanded_u...</td>\n",
       "    </tr>\n",
       "    <tr>\n",
       "      <th>7</th>\n",
       "      <td>It wasn’t pretty, but the @USABasketball women...</td>\n",
       "      <td>{'display_url': 'link.thesportsletter.com/view...</td>\n",
       "    </tr>\n",
       "    <tr>\n",
       "      <th>8</th>\n",
       "      <td>Paris Olympics, Aug. 6: Live updates and resul...</td>\n",
       "      <td>{'display_url': 'NBA.com', 'expanded_url': 'ht...</td>\n",
       "    </tr>\n",
       "    <tr>\n",
       "      <th>9</th>\n",
       "      <td>Paris Olympics, Aug. 6: Live updates and resul...</td>\n",
       "      <td>{'display_url': 'NBA.com', 'expanded_url': 'ht...</td>\n",
       "    </tr>\n",
       "    <tr>\n",
       "      <th>10</th>\n",
       "      <td>Paris Olympics, Aug. 6: Live updates and resul...</td>\n",
       "      <td>{'display_url': 'dlvr.it/TBYGpP', 'expanded_ur...</td>\n",
       "    </tr>\n",
       "    <tr>\n",
       "      <th>11</th>\n",
       "      <td>We got a taste of gold in Tokyo. But we wanted...</td>\n",
       "      <td>{'display_url': 'youtube.com/watch?v=rW5k6M…',...</td>\n",
       "    </tr>\n",
       "    <tr>\n",
       "      <th>12</th>\n",
       "      <td>🏅 The Paris Games are Fanatics' best-selling O...</td>\n",
       "      <td>{'display_url': 'sportsbusinessjournal.com/Art...</td>\n",
       "    </tr>\n",
       "    <tr>\n",
       "      <th>13</th>\n",
       "      <td>We have #Olympics  fever. In our e-edition tod...</td>\n",
       "      <td>{'display_url': 'digitaledition.pilotonline.co...</td>\n",
       "    </tr>\n",
       "    <tr>\n",
       "      <th>14</th>\n",
       "      <td>The U.S. is set for a gold-medal showdown agai...</td>\n",
       "      <td>{'display_url': 'ow.ly/t1OQ50SUEko', 'expanded...</td>\n",
       "    </tr>\n",
       "    <tr>\n",
       "      <th>15</th>\n",
       "      <td>Veteran Star-Laden US Basketball Squad Will Ha...</td>\n",
       "      <td>{'display_url': 'theepochtimes.com/sports/vete...</td>\n",
       "    </tr>\n",
       "    <tr>\n",
       "      <th>16</th>\n",
       "      <td>The Paris Games are the best-selling Olympics ...</td>\n",
       "      <td>{'display_url': 'ow.ly/gM8050SWJKi', 'expanded...</td>\n",
       "    </tr>\n",
       "    <tr>\n",
       "      <th>17</th>\n",
       "      <td>More on Chet Holmgren joining a star-studded l...</td>\n",
       "      <td>{'display_url': 'spokesman.com/stories/2024/j…...</td>\n",
       "    </tr>\n",
       "    <tr>\n",
       "      <th>18</th>\n",
       "      <td>Team USA is arguably the most talented men’s b...</td>\n",
       "      <td>{'display_url': 'nytimes.com/athletic/56211…',...</td>\n",
       "    </tr>\n",
       "  </tbody>\n",
       "</table>\n",
       "</div>"
      ],
      "text/plain": [
       "                                            full_text  \\\n",
       "0                                                 NaN   \n",
       "1   @CBC please stop writing articles about Canada...   \n",
       "2   New Articles in Feed: Olympic Shooting\\nRussia...   \n",
       "3   New Articles in Feed: Olympic Shooting\\nRussia...   \n",
       "4   The U.S. men’s basketball team began its quest...   \n",
       "5   Night night! Steph Curry put @USABasketball on...   \n",
       "6   It’s electric. It’s fast-paced. It’s 3x3 hoops...   \n",
       "7   It wasn’t pretty, but the @USABasketball women...   \n",
       "8   Paris Olympics, Aug. 6: Live updates and resul...   \n",
       "9   Paris Olympics, Aug. 6: Live updates and resul...   \n",
       "10  Paris Olympics, Aug. 6: Live updates and resul...   \n",
       "11  We got a taste of gold in Tokyo. But we wanted...   \n",
       "12  🏅 The Paris Games are Fanatics' best-selling O...   \n",
       "13  We have #Olympics  fever. In our e-edition tod...   \n",
       "14  The U.S. is set for a gold-medal showdown agai...   \n",
       "15  Veteran Star-Laden US Basketball Squad Will Ha...   \n",
       "16  The Paris Games are the best-selling Olympics ...   \n",
       "17  More on Chet Holmgren joining a star-studded l...   \n",
       "18  Team USA is arguably the most talented men’s b...   \n",
       "\n",
       "                                             entities  \n",
       "0                                                 NaN  \n",
       "1   {'display_url': 'cbc.ca/sports/basketb…', 'exp...  \n",
       "2   {'display_url': 'feeddistiller.com/blogs/Olymp...  \n",
       "3   {'display_url': 'tinyurl.com/FDReader', 'expan...  \n",
       "4   {'display_url': 'vogue.com/article/us-men…', '...  \n",
       "5   {'display_url': 'link.thesportsletter.com/view...  \n",
       "6   {'display_url': 'slam.ly/usab-3s', 'expanded_u...  \n",
       "7   {'display_url': 'link.thesportsletter.com/view...  \n",
       "8   {'display_url': 'NBA.com', 'expanded_url': 'ht...  \n",
       "9   {'display_url': 'NBA.com', 'expanded_url': 'ht...  \n",
       "10  {'display_url': 'dlvr.it/TBYGpP', 'expanded_ur...  \n",
       "11  {'display_url': 'youtube.com/watch?v=rW5k6M…',...  \n",
       "12  {'display_url': 'sportsbusinessjournal.com/Art...  \n",
       "13  {'display_url': 'digitaledition.pilotonline.co...  \n",
       "14  {'display_url': 'ow.ly/t1OQ50SUEko', 'expanded...  \n",
       "15  {'display_url': 'theepochtimes.com/sports/vete...  \n",
       "16  {'display_url': 'ow.ly/gM8050SWJKi', 'expanded...  \n",
       "17  {'display_url': 'spokesman.com/stories/2024/j…...  \n",
       "18  {'display_url': 'nytimes.com/athletic/56211…',...  "
      ]
     },
     "execution_count": 27,
     "metadata": {},
     "output_type": "execute_result"
    }
   ],
   "source": [
    "df = pd.read_csv('tweets.csv')\n",
    "df"
   ]
  },
  {
   "cell_type": "code",
   "execution_count": 180,
   "metadata": {},
   "outputs": [],
   "source": [
    "# print(json.dumps(tweets_to_store, indent=4))"
   ]
  },
  {
   "cell_type": "code",
   "execution_count": 28,
   "metadata": {},
   "outputs": [
    {
     "data": {
      "text/plain": [
       "['https://www.cbc.ca/sports/basketball/canada-fiba-world-cup-draw-1.6827012',\n",
       " 'https://www.feeddistiller.com/blogs/Olympic%20Shooting/feed.html',\n",
       " 'https://tinyurl.com/FDReader',\n",
       " 'https://www.vogue.com/article/us-mens-basketball-tips-off-in-paris?utm_source=twitter&utm_medium=social&utm_campaign=dhtwitter&utm_content=app.dashhudson.com%2Fvoguemagazine%2Flibrary%2Fmedia%2F436500605',\n",
       " 'https://link.thesportsletter.com/view/6009f85950576903ee4927a5lnnm0.mhk/89fcf3be',\n",
       " 'http://slam.ly/usab-3s',\n",
       " 'http://NBA.com',\n",
       " 'http://dlvr.it/TBYGpP',\n",
       " 'https://www.youtube.com/watch?v=rW5k6MktLsY',\n",
       " 'https://www.sportsbusinessjournal.com/Articles/2024/08/13/fanatics-olympic-sales-record?publicationSource=morningbuzz&issue=bdb08c9221c346758bb55448ddecb9b3',\n",
       " 'https://digitaledition.pilotonline.com/html5/mobile/production/default.aspx?edid=f0e64c21-5834-4a32-91a4-af6a59cacd1d',\n",
       " 'https://ow.ly/t1OQ50SUEko',\n",
       " 'https://www.theepochtimes.com/sports/veteran-star-laden-us-basketball-squad-will-have-to-dig-deep-for-gold-at-paris-5694693?utm_medium=social&utm_source=twitter&utm_campaign=digitalsub',\n",
       " 'https://ow.ly/gM8050SWJKi',\n",
       " 'https://www.spokesman.com/stories/2024/jan/23/former-gonzaga-star-chet-holmgren-named-to-team-us/',\n",
       " 'https://www.nytimes.com/athletic/5621174/2024/07/07/team-usa-basketball-olympics-training-camp-day-1/?utm_medium=social&utm_campaign=twhq&source=twitterhq']"
      ]
     },
     "execution_count": 28,
     "metadata": {},
     "output_type": "execute_result"
    }
   ],
   "source": [
    "urls_list = []\n",
    "for i in range(1, len(df)):\n",
    "    url = ast.literal_eval(df.loc[i, 'entities'])\n",
    "    urls_list.append(url['expanded_url'])\n",
    "urls_list = list( dict.fromkeys(urls_list) )\n",
    "urls_list"
   ]
  },
  {
   "cell_type": "code",
   "execution_count": 29,
   "metadata": {},
   "outputs": [],
   "source": [
    "sites = ['youtube','instagram','twitter','youtu','shorts','apple','inst','twit','amazo','t.co']\n",
    "wrongsiteID = [index for index,url in enumerate(urls_list) if any(str(url).lower().__contains__(k) for k in sites)]\n",
    "urls_list = [url for url in urls_list if url not in wrongsiteID]"
   ]
  },
  {
   "cell_type": "code",
   "execution_count": 30,
   "metadata": {},
   "outputs": [
    {
     "name": "stderr",
     "output_type": "stream",
     "text": [
      " 12%|█▎        | 2/16 [00:01<00:11,  1.19it/s]"
     ]
    },
    {
     "name": "stdout",
     "output_type": "stream",
     "text": [
      "0 https://www.cbc.ca/sports/basketball/canada-fiba-world-cup-draw-1.6827012 Canadian men's basketball team drawn into group with France at upcoming FIBA World Cup | CBC Sports\n",
      "https://www.feeddistiller.com/blogs/Olympic%20Shooting/feed.html Unicode strings with encoding declaration are not supported. Please use bytes input or XML fragments without declaration.\n"
     ]
    },
    {
     "name": "stderr",
     "output_type": "stream",
     "text": [
      " 19%|█▉        | 3/16 [00:02<00:08,  1.57it/s]"
     ]
    },
    {
     "name": "stdout",
     "output_type": "stream",
     "text": [
      "0 https://www.feeddistiller.com/fdreader.html Feed Distiller - For Blog Readers\n"
     ]
    },
    {
     "name": "stderr",
     "output_type": "stream",
     "text": [
      " 25%|██▌       | 4/16 [00:02<00:06,  1.99it/s]"
     ]
    },
    {
     "name": "stdout",
     "output_type": "stream",
     "text": [
      "0 https://www.vogue.com/article/us-mens-basketball-tips-off-in-paris?utm_source=twitter&utm_medium=social&utm_campaign=dhtwitter&utm_content=app.dashhudson.com%2Fvoguemagazine%2Flibrary%2Fmedia%2F436500605 The U.S. Men’s Basketball Team—Seeking Their Fifth Straight Gold Medal—Tips-Off in Paris | Vogue\n"
     ]
    },
    {
     "name": "stderr",
     "output_type": "stream",
     "text": [
      " 31%|███▏      | 5/16 [00:03<00:06,  1.79it/s]"
     ]
    },
    {
     "name": "stdout",
     "output_type": "stream",
     "text": [
      "0 https://link.thesportsletter.com/view/6009f85950576903ee4927a5lnnm0.mhk/89fcf3be \n"
     ]
    },
    {
     "name": "stderr",
     "output_type": "stream",
     "text": [
      " 38%|███▊      | 6/16 [00:04<00:09,  1.08it/s]"
     ]
    },
    {
     "name": "stdout",
     "output_type": "stream",
     "text": [
      "0 https://www.slamonline.com/olympics/usa-mens-3-on-3-preview/ USA Basketball's 3x3 Men's Team Arrives in Paris Looking for Gold\n"
     ]
    },
    {
     "name": "stderr",
     "output_type": "stream",
     "text": [
      " 44%|████▍     | 7/16 [00:07<00:14,  1.56s/it]"
     ]
    },
    {
     "name": "stdout",
     "output_type": "stream",
     "text": [
      "0 https://www.nba.com/ The official site of the NBA for the latest NBA Scores, Stats & News. | NBA.com\n"
     ]
    },
    {
     "name": "stderr",
     "output_type": "stream",
     "text": [
      " 50%|█████     | 8/16 [00:08<00:10,  1.29s/it]"
     ]
    },
    {
     "name": "stdout",
     "output_type": "stream",
     "text": [
      "0 https://news.google.com/rss/articles/CBMiZ0FVX3lxTE1URTJfNllqUEk5RFA5QTMwcTBsb3JacXYtSHRXSTFBOGtOS2RuZE9maEZ5d0NCdGJ2eFktTVNIS1JVTl8wMGdTc0FjU28xN0pjTk5odFVXN0t0THJRSjgtc29YR0NRWjQ?oc=5&utm_source=dlvr.it&utm_medium=twitter&hl=en-US&gl=US&ceid=US:en Google News\n"
     ]
    },
    {
     "name": "stderr",
     "output_type": "stream",
     "text": [
      " 56%|█████▋    | 9/16 [00:09<00:07,  1.08s/it]"
     ]
    },
    {
     "name": "stdout",
     "output_type": "stream",
     "text": [
      "0 https://www.youtube.com/watch?v=rW5k6MktLsY How we qualified for Paris // USA Basketball 3x3 - YouTube\n"
     ]
    },
    {
     "name": "stderr",
     "output_type": "stream",
     "text": [
      " 62%|██████▎   | 10/16 [00:10<00:06,  1.11s/it]"
     ]
    },
    {
     "name": "stdout",
     "output_type": "stream",
     "text": [
      "0 https://www.sportsbusinessjournal.com/Articles/2024/08/13/fanatics-olympic-sales-record?publicationSource=morningbuzz&issue=bdb08c9221c346758bb55448ddecb9b3 Fanatics sets new record for Olympic merch sales\n"
     ]
    },
    {
     "name": "stderr",
     "output_type": "stream",
     "text": [
      " 69%|██████▉   | 11/16 [00:10<00:04,  1.18it/s]"
     ]
    },
    {
     "name": "stdout",
     "output_type": "stream",
     "text": [
      "0 https://digitaledition.pilotonline.com/html5/mobile/production/default.aspx?edid=f0e64c21-5834-4a32-91a4-af6a59cacd1d The Virginian-Pilot\n"
     ]
    },
    {
     "name": "stderr",
     "output_type": "stream",
     "text": [
      " 75%|███████▌  | 12/16 [00:12<00:04,  1.11s/it]"
     ]
    },
    {
     "name": "stdout",
     "output_type": "stream",
     "text": [
      "0 https://www.sportsbusinessjournal.com/Articles/2024/08/09/olympic-basketball-usa-serbia-france?publicationSource=morningbuzz&issue=96318fe3b7dd46cc831262abffa7acf7 U.S. to face France for men's basketball gold after comeback win\n"
     ]
    },
    {
     "name": "stderr",
     "output_type": "stream",
     "text": [
      " 81%|████████▏ | 13/16 [00:13<00:03,  1.09s/it]"
     ]
    },
    {
     "name": "stdout",
     "output_type": "stream",
     "text": [
      "0 https://www.theepochtimes.com/sports/veteran-star-laden-us-basketball-squad-will-have-to-dig-deep-for-gold-at-paris-5694693?utm_medium=social&utm_source=twitter&utm_campaign=digitalsub Veteran Star-Laden US Basketball Squad Will Have to Dig Deep for Gold at Paris | The Epoch Times\n"
     ]
    },
    {
     "name": "stderr",
     "output_type": "stream",
     "text": [
      " 88%|████████▊ | 14/16 [00:14<00:02,  1.23s/it]"
     ]
    },
    {
     "name": "stdout",
     "output_type": "stream",
     "text": [
      "0 https://www.sportsbusinessjournal.com/Articles/2024/08/13/fanatics-olympic-sales-record?publicationSource=morningbuzz&issue=bdb08c9221c346758bb55448ddecb9b3 Fanatics sets new record for Olympic merch sales\n"
     ]
    },
    {
     "name": "stderr",
     "output_type": "stream",
     "text": [
      " 94%|█████████▍| 15/16 [00:15<00:00,  1.06it/s]"
     ]
    },
    {
     "name": "stdout",
     "output_type": "stream",
     "text": [
      "0 https://www.spokesman.com/stories/2024/jan/23/former-gonzaga-star-chet-holmgren-named-to-team-us/ Former Gonzaga star Chet Holmgren named to Team USA player pool for Summer Olympics | The Spokesman-Review\n"
     ]
    },
    {
     "name": "stderr",
     "output_type": "stream",
     "text": [
      "100%|██████████| 16/16 [00:19<00:00,  1.20s/it]"
     ]
    },
    {
     "name": "stdout",
     "output_type": "stream",
     "text": [
      "0 https://www.nytimes.com/athletic/5621174/2024/07/07/team-usa-basketball-olympics-training-camp-day-1/?utm_medium=social&utm_campaign=twhq&source=twitterhq Inside Day 1 of Team USA’s Olympic training camp: ‘Greatness in the room’ - The Athletic\n"
     ]
    },
    {
     "name": "stderr",
     "output_type": "stream",
     "text": [
      "\n"
     ]
    }
   ],
   "source": [
    "articles = {\"URL\": [],\"URL2\": [],\"Title\": [],\"Content\": []}\n",
    "counter = 0\n",
    "checkPoints = 100\n",
    "for i in tqdm(range(len(urls_list))):\n",
    "    url = urls_list[i]\n",
    "    try:\n",
    "        html = requests.get(url, timeout=(20,20))\n",
    "        if(html.status_code!=200):\n",
    "            print(\"skip\",html.status_code,url)\n",
    "            counter += 1\n",
    "            continue\n",
    "        url2 = html.url\n",
    "        html = html.text\n",
    "        soup = bs(html, 'html.parser').get_text()\n",
    "        result = re.sub(r'[\\t\\r\\n]', '', soup)\n",
    "        tree = fromstring(html)\n",
    "        title = tree.findtext('.//title')\n",
    "        articles[\"URL\"].append(url)\n",
    "        articles[\"URL2\"].append(url2)\n",
    "        articles['Content'].append(result)\n",
    "        articles['Title'].append(title)\n",
    "        print(counter,url2,title)\n",
    "        if (counter % checkPoints == 0):\n",
    "            pd.DataFrame(articles).to_csv(\"articles.csv\", index=False)\n",
    "    except Exception as e:\n",
    "        print(url, e)\n",
    "        continue\n",
    "\n",
    "pd.DataFrame(articles).to_csv(\"articles.csv\", index=False)"
   ]
  },
  {
   "cell_type": "code",
   "execution_count": 41,
   "metadata": {},
   "outputs": [
    {
     "data": {
      "text/html": [
       "<div>\n",
       "<style scoped>\n",
       "    .dataframe tbody tr th:only-of-type {\n",
       "        vertical-align: middle;\n",
       "    }\n",
       "\n",
       "    .dataframe tbody tr th {\n",
       "        vertical-align: top;\n",
       "    }\n",
       "\n",
       "    .dataframe thead th {\n",
       "        text-align: right;\n",
       "    }\n",
       "</style>\n",
       "<table border=\"1\" class=\"dataframe\">\n",
       "  <thead>\n",
       "    <tr style=\"text-align: right;\">\n",
       "      <th></th>\n",
       "      <th>URL</th>\n",
       "      <th>URL2</th>\n",
       "      <th>Title</th>\n",
       "      <th>Content</th>\n",
       "    </tr>\n",
       "  </thead>\n",
       "  <tbody>\n",
       "    <tr>\n",
       "      <th>0</th>\n",
       "      <td>https://www.cbc.ca/sports/basketball/canada-fi...</td>\n",
       "      <td>https://www.cbc.ca/sports/basketball/canada-fi...</td>\n",
       "      <td>Canadian men's basketball team drawn into grou...</td>\n",
       "      <td>Canadian men's basketball team drawn into grou...</td>\n",
       "    </tr>\n",
       "    <tr>\n",
       "      <th>1</th>\n",
       "      <td>https://tinyurl.com/FDReader</td>\n",
       "      <td>https://www.feeddistiller.com/fdreader.html</td>\n",
       "      <td>Feed Distiller - For Blog Readers</td>\n",
       "      <td>Feed Distiller - For Blog ReadersBelieve-it-or...</td>\n",
       "    </tr>\n",
       "    <tr>\n",
       "      <th>2</th>\n",
       "      <td>https://www.vogue.com/article/us-mens-basketba...</td>\n",
       "      <td>https://www.vogue.com/article/us-mens-basketba...</td>\n",
       "      <td>The U.S. Men’s Basketball Team—Seeking Their F...</td>\n",
       "      <td>The U.S. Men’s Basketball Team—Seeking Their F...</td>\n",
       "    </tr>\n",
       "    <tr>\n",
       "      <th>3</th>\n",
       "      <td>https://link.thesportsletter.com/view/6009f859...</td>\n",
       "      <td>https://link.thesportsletter.com/view/6009f859...</td>\n",
       "      <td>NaN</td>\n",
       "      <td>U.S. Squads Close Out Olympics With Golden Hau...</td>\n",
       "    </tr>\n",
       "    <tr>\n",
       "      <th>4</th>\n",
       "      <td>http://slam.ly/usab-3s</td>\n",
       "      <td>https://www.slamonline.com/olympics/usa-mens-3...</td>\n",
       "      <td>USA Basketball's 3x3 Men's Team Arrives in Par...</td>\n",
       "      <td>USA Basketball's 3x3 Men's Team Arrives in Par...</td>\n",
       "    </tr>\n",
       "    <tr>\n",
       "      <th>5</th>\n",
       "      <td>http://NBA.com</td>\n",
       "      <td>https://www.nba.com/</td>\n",
       "      <td>The official site of the NBA for the latest NB...</td>\n",
       "      <td>The official site of the NBA for the latest NB...</td>\n",
       "    </tr>\n",
       "    <tr>\n",
       "      <th>6</th>\n",
       "      <td>http://dlvr.it/TBYGpP</td>\n",
       "      <td>https://news.google.com/rss/articles/CBMiZ0FVX...</td>\n",
       "      <td>Google News</td>\n",
       "      <td>Google News</td>\n",
       "    </tr>\n",
       "    <tr>\n",
       "      <th>7</th>\n",
       "      <td>https://www.youtube.com/watch?v=rW5k6MktLsY</td>\n",
       "      <td>https://www.youtube.com/watch?v=rW5k6MktLsY</td>\n",
       "      <td>How we qualified for Paris // USA Basketball 3...</td>\n",
       "      <td>How we qualified for Paris // USA Basketball 3...</td>\n",
       "    </tr>\n",
       "    <tr>\n",
       "      <th>8</th>\n",
       "      <td>https://www.sportsbusinessjournal.com/Articles...</td>\n",
       "      <td>https://www.sportsbusinessjournal.com/Articles...</td>\n",
       "      <td>Fanatics sets new record for Olympic merch sales</td>\n",
       "      <td>Fanatics sets new record for Olympic merch sa...</td>\n",
       "    </tr>\n",
       "    <tr>\n",
       "      <th>9</th>\n",
       "      <td>https://digitaledition.pilotonline.com/html5/m...</td>\n",
       "      <td>https://digitaledition.pilotonline.com/html5/m...</td>\n",
       "      <td>The Virginian-Pilot</td>\n",
       "      <td>The Virginian-Pilot</td>\n",
       "    </tr>\n",
       "    <tr>\n",
       "      <th>10</th>\n",
       "      <td>https://ow.ly/t1OQ50SUEko</td>\n",
       "      <td>https://www.sportsbusinessjournal.com/Articles...</td>\n",
       "      <td>U.S. to face France for men's basketball gold ...</td>\n",
       "      <td>U.S. to face France for men's basketball gold...</td>\n",
       "    </tr>\n",
       "    <tr>\n",
       "      <th>11</th>\n",
       "      <td>https://www.theepochtimes.com/sports/veteran-s...</td>\n",
       "      <td>https://www.theepochtimes.com/sports/veteran-s...</td>\n",
       "      <td>Veteran Star-Laden US Basketball Squad Will Ha...</td>\n",
       "      <td>Veteran Star-Laden US Basketball Squad Will Ha...</td>\n",
       "    </tr>\n",
       "    <tr>\n",
       "      <th>12</th>\n",
       "      <td>https://ow.ly/gM8050SWJKi</td>\n",
       "      <td>https://www.sportsbusinessjournal.com/Articles...</td>\n",
       "      <td>Fanatics sets new record for Olympic merch sales</td>\n",
       "      <td>Fanatics sets new record for Olympic merch sa...</td>\n",
       "    </tr>\n",
       "    <tr>\n",
       "      <th>13</th>\n",
       "      <td>https://www.spokesman.com/stories/2024/jan/23/...</td>\n",
       "      <td>https://www.spokesman.com/stories/2024/jan/23/...</td>\n",
       "      <td>Former Gonzaga star Chet Holmgren named to Tea...</td>\n",
       "      <td>Former Gonzaga star Chet Holmgren named to Tea...</td>\n",
       "    </tr>\n",
       "    <tr>\n",
       "      <th>14</th>\n",
       "      <td>https://www.nytimes.com/athletic/5621174/2024/...</td>\n",
       "      <td>https://www.nytimes.com/athletic/5621174/2024/...</td>\n",
       "      <td>Inside Day 1 of Team USA’s Olympic training ca...</td>\n",
       "      <td>Inside Day 1 of Team USA’s Olympic training ca...</td>\n",
       "    </tr>\n",
       "  </tbody>\n",
       "</table>\n",
       "</div>"
      ],
      "text/plain": [
       "                                                  URL  \\\n",
       "0   https://www.cbc.ca/sports/basketball/canada-fi...   \n",
       "1                        https://tinyurl.com/FDReader   \n",
       "2   https://www.vogue.com/article/us-mens-basketba...   \n",
       "3   https://link.thesportsletter.com/view/6009f859...   \n",
       "4                              http://slam.ly/usab-3s   \n",
       "5                                      http://NBA.com   \n",
       "6                               http://dlvr.it/TBYGpP   \n",
       "7         https://www.youtube.com/watch?v=rW5k6MktLsY   \n",
       "8   https://www.sportsbusinessjournal.com/Articles...   \n",
       "9   https://digitaledition.pilotonline.com/html5/m...   \n",
       "10                          https://ow.ly/t1OQ50SUEko   \n",
       "11  https://www.theepochtimes.com/sports/veteran-s...   \n",
       "12                          https://ow.ly/gM8050SWJKi   \n",
       "13  https://www.spokesman.com/stories/2024/jan/23/...   \n",
       "14  https://www.nytimes.com/athletic/5621174/2024/...   \n",
       "\n",
       "                                                 URL2  \\\n",
       "0   https://www.cbc.ca/sports/basketball/canada-fi...   \n",
       "1         https://www.feeddistiller.com/fdreader.html   \n",
       "2   https://www.vogue.com/article/us-mens-basketba...   \n",
       "3   https://link.thesportsletter.com/view/6009f859...   \n",
       "4   https://www.slamonline.com/olympics/usa-mens-3...   \n",
       "5                                https://www.nba.com/   \n",
       "6   https://news.google.com/rss/articles/CBMiZ0FVX...   \n",
       "7         https://www.youtube.com/watch?v=rW5k6MktLsY   \n",
       "8   https://www.sportsbusinessjournal.com/Articles...   \n",
       "9   https://digitaledition.pilotonline.com/html5/m...   \n",
       "10  https://www.sportsbusinessjournal.com/Articles...   \n",
       "11  https://www.theepochtimes.com/sports/veteran-s...   \n",
       "12  https://www.sportsbusinessjournal.com/Articles...   \n",
       "13  https://www.spokesman.com/stories/2024/jan/23/...   \n",
       "14  https://www.nytimes.com/athletic/5621174/2024/...   \n",
       "\n",
       "                                                Title  \\\n",
       "0   Canadian men's basketball team drawn into grou...   \n",
       "1                   Feed Distiller - For Blog Readers   \n",
       "2   The U.S. Men’s Basketball Team—Seeking Their F...   \n",
       "3                                                 NaN   \n",
       "4   USA Basketball's 3x3 Men's Team Arrives in Par...   \n",
       "5   The official site of the NBA for the latest NB...   \n",
       "6                                         Google News   \n",
       "7   How we qualified for Paris // USA Basketball 3...   \n",
       "8    Fanatics sets new record for Olympic merch sales   \n",
       "9                                 The Virginian-Pilot   \n",
       "10  U.S. to face France for men's basketball gold ...   \n",
       "11  Veteran Star-Laden US Basketball Squad Will Ha...   \n",
       "12   Fanatics sets new record for Olympic merch sales   \n",
       "13  Former Gonzaga star Chet Holmgren named to Tea...   \n",
       "14  Inside Day 1 of Team USA’s Olympic training ca...   \n",
       "\n",
       "                                              Content  \n",
       "0   Canadian men's basketball team drawn into grou...  \n",
       "1   Feed Distiller - For Blog ReadersBelieve-it-or...  \n",
       "2   The U.S. Men’s Basketball Team—Seeking Their F...  \n",
       "3   U.S. Squads Close Out Olympics With Golden Hau...  \n",
       "4   USA Basketball's 3x3 Men's Team Arrives in Par...  \n",
       "5   The official site of the NBA for the latest NB...  \n",
       "6                                         Google News  \n",
       "7   How we qualified for Paris // USA Basketball 3...  \n",
       "8    Fanatics sets new record for Olympic merch sa...  \n",
       "9                                 The Virginian-Pilot  \n",
       "10   U.S. to face France for men's basketball gold...  \n",
       "11  Veteran Star-Laden US Basketball Squad Will Ha...  \n",
       "12   Fanatics sets new record for Olympic merch sa...  \n",
       "13  Former Gonzaga star Chet Holmgren named to Tea...  \n",
       "14  Inside Day 1 of Team USA’s Olympic training ca...  "
      ]
     },
     "execution_count": 41,
     "metadata": {},
     "output_type": "execute_result"
    }
   ],
   "source": [
    "art_df = pd.read_csv(\"articles.csv\")\n",
    "art_df"
   ]
  },
  {
   "cell_type": "code",
   "execution_count": 39,
   "metadata": {},
   "outputs": [],
   "source": [
    "documents = []\n",
    "for i in range(len(art_df)):\n",
    "    documents.append({\n",
    "        'text': art_df.loc[i, 'Content'],\n",
    "        'title': art_df.loc[i, 'Title'],\n",
    "        'tweets_type': tweets_type,\n",
    "    })"
   ]
  },
  {
   "cell_type": "code",
   "execution_count": 40,
   "metadata": {},
   "outputs": [
    {
     "data": {
      "text/plain": [
       "{'text': \"USA Basketball's 3x3 Men's Team Arrives in Paris Looking for GoldSkip to contentSUBSCRIBESHOPSearch for: NewsNBAWNBACollege & High SchoolFeaturesGoodsChannelsCoversSubscribe AdvertiseDNANewsletterFEATURED STORIESFEATURED STORIESFEATURED STORIESFEATURED STORIESFEATURED STORIESFEATURED STORIESRefined Elegance: Paolo Banchero Covers SLAM KICKS 27 with the Air Jordan 39By Jared EbanksAugust 16, 2024 Extreme Fandom: Uncovering the Mystery Behind StatMuse and the Legion of Muse Accounts That Just Keep AppearingBy Jared EbanksAugust 8, 2024 Naz Reid Explains His Cult Following, Winning Sixth Man of the Year and Building a Newfound Culture in MinnesotaBy Jared EbanksAugust 7, 2024FEATURED STORIESFEATURED STORIESFEATURED STORIESFEATURED STORIESFEATURED STORIESFEATURED STORIESRefined Elegance: Paolo Banchero Covers SLAM KICKS 27 with the Air Jordan 39By Jared EbanksAugust 16, 2024 From Undiscovered to Unrivaled, AJ Storr Has His Sights Set on the League After Transferring to KansasBy Ben OsborneAugust 15, 2024 Knecht Four: Lakers Rookie Dalton Knecht Talks About His Rise From Junior College, to Tennessee to the LeagueBy Jared EbanksAugust 14, 2024 SLAM GOODSShop NowSLAM GOODSShop NowSLAM GOODSShop NowShop NowChannelsChannelsChannelsChannelsChannelsChannelsCOVERSCOVERSCOVERSCOVERSCOVERSCOVERSSLAM DNASLAM DNASLAM DNASLAM DNASLAM DNASLAM DNA OlympicsBY Curtis Rowser IIIJuly 29, 2024The 2024 USA 3×3 Men’s National Team Seeks Gold at the 2024 Paris Olympics Share Tweet EmailThis story appears in SLAM Presents USA Basketball. Shop now.Let’s take it back to where it all started. Before you learned to play in a full-court setting, you had to get comfortable navigating the half-court. It’s the essence of basketball. From quick pickup games at famous courts like Rucker Park to the shell drill that every formidable basketball team practices, 3×3 basketball is the foundation of the high-flying, up-and-down 5×5 game we’ve grown to love.For the second time in Olympic history, 3×3 basketball will be in full swing as countries compete for a medal, and for the first time in Olympic history, USA Basketball will have a team competing on the men’s side.After winning Gold at the 2023 Pan Am Games and making themselves known on the FIBA 3×3 World Tour circuit, the U.S. 3×3 Men’s National Team automatically qualified for a spot at this year’s Paris Games, entering the field as the No.2 seed.The four-player squad assembled has been playing together for a few years now, and that chemistry will be vital for any success they’re hoping to achieve. But while chemistry and togetherness are keys to Gold, the squad will still need some strong individual performances. Let’s meet the men who make up the first USA 3×3 Men’s Olympic Team in USA Basketball history.There’s nobody better to represent the United States in 3×3 basketball than Jimmer Fredette, one of the nation’s most outstanding college basketball players of all time. He’s a star. He’s box office, and if he’s on your team, you always have a shot at winning. Very few can compete with Jimmer when it comes to putting the ball in the basket. He can catch fire like no other, and his ability to get buckets in bunches will prove valuable in Paris. Name a BYU or Mountain West Conference scoring/shooting record, and there’s a good chance Jimmer holds it. The former NCAA leading scorer and Player of the Year knows that nothing comes easily, although his natural knack for scoring might lead you to think otherwise. Jimmer took the college basketball world by storm when he went on his remarkable individual run at BYU back in 2011. He’ll look to galvanize the country again—this time in pursuit of an Olympic Gold medal and the first in U.S. men’s 3×3 history. Jimmer has earned two Gold medals and one Silver medal in his 3×3 FIBA career, which began in late 2022. This time around, one could argue the stakes are higher than they’ve ever been. If there’s anything you need to know about Jimmer, know this: If you need a bucket, all you have to do is say the word, and it’ll get done.“Defense wins championships.” It’s one of the most used adages in the history of team sports. As basketball continues to lean more and more in favor of offense, having a lockdown defender at your disposal who can offset offensive firepower is as pivotal as ever. That’s what Kareem Maddox brings to USA Basketball’s 3×3 Men’s National Team this summer. The Princeton alum and former Ivy League Defensive Player of the Year and All-Ivy League first-team selection (2011) is the squad’s anchor. Along with his defensive prowess, Maddox is a capable scorer with years of professional 3×3 experience, dating back to 2018 when he earned MVP at the USA Basketball 3×3 National Championship. Since then, he’s earned five Gold medals and one Silver during his FIBA 3×3 career.It’s very hard—almost impossible—to win a Gold medal in 3×3 basketball without at least one sharpshooter on the team. Luckily for USA Basketball, shooting is Canyon Barry’s specialty. The 6-6, 215-pound guard is the son of Hall of Famer Rick Barry and is doing his part to carry on the Barry basketball tradition: winning. The younger Barry was a 1000-point scorer in college and averaged 20 points as a junior for Charleston before an injury cut his season short. He transferred to Florida the following season, where he earned 2017 SEC Sixth Man of the Year honors. Canyon is a steady guard who also brings experience to the table and a handful of hardware to show for it. He has four Gold medals and one Silver medal in FIBA 3×3 competition and earned the 2022 FIBA 3×3 AmeriCup MVP. If this year’s 3×3 Men’s National Team has any chance of securing the Gold in Paris, Canyon is going to have to tap into the bag he was in when he helped lead the Florida Gators to the Elite Eight in 2017. And based on the strong performances he’s had on the FIBA 3×3 circuit, there’s no reason to doubt he’ll be ready for the moment when it comes.The last member of the group is Dylan Travis, a graduate of Florida Southern College. Travis is the only player on the 3×3 Men’s National Team who didn’t play at the Division I level, but any real hooper or hoops fan knows how it goes—the best Division II players in the country can compete at any level. As a junior in 2015, Travis led his team to a Division II National Championship before he played professionally overseas for several season. In 2022, Travis made his USA Basketball 3×3 debut, where he instantly made his presence felt. He’s a sniper who can also get to the cup under pressure and cause fits for defenders. Thus far in his FIBA career, he has two Gold medals and one Silver. So far…As the 2024 Games are set to begin, the U.S. has, for the first time, qualified four basketball teams for the Olympics. The newest team, the 3×3 Men’s squad, will no doubt shine as bright as the Olympic flame, right at home on the courts of Paris.SLAM PRESENTS USA BASKETBALL IS AVAILABLE NOWSHOP MAG + TEESPhotos via Getty Images.Trending01Naz Reid Explains His Cult Following, Winning Sixth Man of the Year and Building a Newfound Culture in Minnesota02Extreme Fandom: Uncovering the Mystery Behind StatMuse and the Legion of Muse Accounts That Just Keep Appearing03Caleb Wilson Studied the Legends of the Game, Now He’s Channeling Their Wisdom as He Makes His Own Mark as a Top 10 Player in the Class of 2025You might also likeThe Best of the Best: A Journey Through the USA Women’s National Team’s Historical Dominance Over the YearsBy Michael BradleyJuly 31, 2024Building the Foundation: Luol Deng and Royal Ivey on the Rise of South Sudan’s National Basketball TeamBy Ben OsborneJuly 30, 2024Winning Time: Chronicling the History of USA Basketball’s Men’s National TeamBy Michael BradleyJuly 30, 2024Sign up for the SLAM NewsletterNewsAdvertiseGoodsSubscribe + ArchiveChannelsNewsletterDNATerms Of UseCoversPrivacy PolicyCareersContact Us Follow UsCopyright 2024 © SLAM Media Inc. SLAM®, SLAMTV®, SLAM MEDIA® and the SLAM® logo are registeredtrademarks of Slam Media Inc. All rights reserved.\",\n",
       " 'title': \"USA Basketball's 3x3 Men's Team Arrives in Paris Looking for Gold\",\n",
       " 'tweets_type': \"2024 Olympic Men's Basketball articles\"}"
      ]
     },
     "execution_count": 40,
     "metadata": {},
     "output_type": "execute_result"
    }
   ],
   "source": [
    "documents[4]"
   ]
  },
  {
   "cell_type": "code",
   "execution_count": 93,
   "metadata": {},
   "outputs": [],
   "source": [
    "index = minsearch.Index(\n",
    "    text_fields=[\"text\", \"title\"],\n",
    "    keyword_fields=[\"tweets_type\"]\n",
    ")"
   ]
  },
  {
   "cell_type": "code",
   "execution_count": 94,
   "metadata": {},
   "outputs": [
    {
     "data": {
      "text/plain": [
       "<minsearch.Index at 0x137d77a90>"
      ]
     },
     "execution_count": 94,
     "metadata": {},
     "output_type": "execute_result"
    }
   ],
   "source": [
    "index.fit(documents)"
   ]
  },
  {
   "cell_type": "code",
   "execution_count": null,
   "metadata": {},
   "outputs": [],
   "source": []
  }
 ],
 "metadata": {
  "kernelspec": {
   "display_name": "venv",
   "language": "python",
   "name": "python3"
  },
  "language_info": {
   "codemirror_mode": {
    "name": "ipython",
    "version": 3
   },
   "file_extension": ".py",
   "mimetype": "text/x-python",
   "name": "python",
   "nbconvert_exporter": "python",
   "pygments_lexer": "ipython3",
   "version": "3.9.6"
  }
 },
 "nbformat": 4,
 "nbformat_minor": 2
}
